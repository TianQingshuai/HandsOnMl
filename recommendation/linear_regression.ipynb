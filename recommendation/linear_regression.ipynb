{
 "cells": [
  {
   "cell_type": "code",
   "execution_count": 51,
   "metadata": {},
   "outputs": [],
   "source": [
    "import numpy as np\n",
    "import tensorflow as tf\n",
    "import matplotlib.pyplot as plt"
   ]
  },
  {
   "cell_type": "code",
   "execution_count": 52,
   "metadata": {},
   "outputs": [],
   "source": [
    "x = np.linspace(0,5,100)\n",
    "y = 2 * x + 1 + np.random.randn(*x.shape) * 0.3"
   ]
  },
  {
   "cell_type": "code",
   "execution_count": 53,
   "metadata": {},
   "outputs": [
    {
     "data": {
      "image/png": "[encoded data removed]",
      "text/plain": [
       "<Figure size 432x288 with 1 Axes>"
      ]
     },
     "metadata": {
      "needs_background": "light"
     },
     "output_type": "display_data"
    }
   ],
   "source": [
    "plt.scatter(x, y)\n",
    "plt.show()"
   ]
  },
  {
   "cell_type": "code",
   "execution_count": 54,
   "metadata": {},
   "outputs": [],
   "source": [
    "class LinearModel(object):\n",
    "    def __init__(self):\n",
    "        self.W = tf.Variable(1.1)\n",
    "        self.b = tf.Variable(0.0)\n",
    "    def __call__(self, x):\n",
    "        return self.W * x  + self.b"
   ]
  },
  {
   "cell_type": "code",
   "execution_count": 55,
   "metadata": {},
   "outputs": [],
   "source": [
    "def loss(predicted_y, desired_y):\n",
    "    return tf.reduce_mean(tf.square(predicted_y - desired_y))"
   ]
  },
  {
   "cell_type": "code",
   "execution_count": 56,
   "metadata": {},
   "outputs": [],
   "source": [
    "def train(model, inputs, outputs, learning_rate):\n",
    "    with tf.GradientTape() as t:\n",
    "        current_loss = loss(model(inputs), outputs)\n",
    "    dW, db = t.gradient(current_loss, [model.W, model.b])\n",
    "    model.W.assign_sub(learning_rate * dW)\n",
    "    model.b.assign_sub(learning_rate * db)\n",
    "        "
   ]
  },
  {
   "cell_type": "code",
   "execution_count": 57,
   "metadata": {},
   "outputs": [
    {
     "name": "stdout",
     "output_type": "stream",
     "text": [
      "Epoch  0: W=1.10, b=0.00,loss=12.46115\n",
      "Epoch  1: W=1.30, b=0.07,loss=8.39870\n",
      "Epoch  2: W=1.47, b=0.12,loss=5.68572\n",
      "Epoch  3: W=1.60, b=0.16,loss=3.87380\n",
      "Epoch  4: W=1.71, b=0.20,loss=2.66355\n",
      "Epoch  5: W=1.80, b=0.23,loss=1.85504\n",
      "Epoch  6: W=1.87, b=0.26,loss=1.31479\n",
      "Epoch  7: W=1.93, b=0.28,loss=0.95366\n",
      "Epoch  8: W=1.98, b=0.30,loss=0.71214\n",
      "Epoch  9: W=2.02, b=0.31,loss=0.55049\n",
      "Epoch 10: W=2.05, b=0.33,loss=0.44218\n",
      "Epoch 11: W=2.07, b=0.34,loss=0.36948\n",
      "Epoch 12: W=2.10, b=0.35,loss=0.32056\n",
      "Epoch 13: W=2.11, b=0.36,loss=0.28753\n",
      "Epoch 14: W=2.13, b=0.37,loss=0.26511\n",
      "Epoch 15: W=2.14, b=0.37,loss=0.24977\n",
      "Epoch 16: W=2.15, b=0.38,loss=0.23917\n",
      "Epoch 17: W=2.15, b=0.38,loss=0.23174\n",
      "Epoch 18: W=2.16, b=0.39,loss=0.22643\n",
      "Epoch 19: W=2.16, b=0.39,loss=0.22253\n",
      "Epoch 20: W=2.17, b=0.40,loss=0.21958\n",
      "Epoch 21: W=2.17, b=0.40,loss=0.21727\n",
      "Epoch 22: W=2.17, b=0.41,loss=0.21538\n",
      "Epoch 23: W=2.17, b=0.41,loss=0.21379\n",
      "Epoch 24: W=2.17, b=0.41,loss=0.21239\n",
      "Epoch 25: W=2.17, b=0.42,loss=0.21113\n",
      "Epoch 26: W=2.17, b=0.42,loss=0.20996\n",
      "Epoch 27: W=2.17, b=0.42,loss=0.20885\n",
      "Epoch 28: W=2.17, b=0.43,loss=0.20779\n",
      "Epoch 29: W=2.17, b=0.43,loss=0.20676\n",
      "Epoch 30: W=2.17, b=0.43,loss=0.20576\n",
      "Epoch 31: W=2.17, b=0.44,loss=0.20478\n",
      "Epoch 32: W=2.17, b=0.44,loss=0.20382\n",
      "Epoch 33: W=2.17, b=0.44,loss=0.20287\n",
      "Epoch 34: W=2.17, b=0.45,loss=0.20193\n",
      "Epoch 35: W=2.17, b=0.45,loss=0.20100\n",
      "Epoch 36: W=2.17, b=0.45,loss=0.20009\n",
      "Epoch 37: W=2.17, b=0.46,loss=0.19918\n",
      "Epoch 38: W=2.17, b=0.46,loss=0.19828\n",
      "Epoch 39: W=2.17, b=0.46,loss=0.19739\n",
      "Epoch 40: W=2.17, b=0.46,loss=0.19651\n",
      "Epoch 41: W=2.17, b=0.47,loss=0.19564\n",
      "Epoch 42: W=2.17, b=0.47,loss=0.19477\n",
      "Epoch 43: W=2.16, b=0.47,loss=0.19391\n",
      "Epoch 44: W=2.16, b=0.48,loss=0.19307\n",
      "Epoch 45: W=2.16, b=0.48,loss=0.19222\n",
      "Epoch 46: W=2.16, b=0.48,loss=0.19139\n",
      "Epoch 47: W=2.16, b=0.48,loss=0.19057\n",
      "Epoch 48: W=2.16, b=0.49,loss=0.18975\n",
      "Epoch 49: W=2.16, b=0.49,loss=0.18894\n",
      "Epoch 50: W=2.16, b=0.49,loss=0.18814\n",
      "Epoch 51: W=2.16, b=0.49,loss=0.18734\n",
      "Epoch 52: W=2.16, b=0.50,loss=0.18655\n",
      "Epoch 53: W=2.16, b=0.50,loss=0.18577\n",
      "Epoch 54: W=2.16, b=0.50,loss=0.18500\n",
      "Epoch 55: W=2.15, b=0.50,loss=0.18423\n",
      "Epoch 56: W=2.15, b=0.51,loss=0.18348\n",
      "Epoch 57: W=2.15, b=0.51,loss=0.18272\n",
      "Epoch 58: W=2.15, b=0.51,loss=0.18198\n",
      "Epoch 59: W=2.15, b=0.52,loss=0.18124\n",
      "Epoch 60: W=2.15, b=0.52,loss=0.18051\n",
      "Epoch 61: W=2.15, b=0.52,loss=0.17979\n",
      "Epoch 62: W=2.15, b=0.52,loss=0.17907\n",
      "Epoch 63: W=2.15, b=0.53,loss=0.17836\n",
      "Epoch 64: W=2.15, b=0.53,loss=0.17765\n",
      "Epoch 65: W=2.15, b=0.53,loss=0.17695\n",
      "Epoch 66: W=2.15, b=0.53,loss=0.17626\n",
      "Epoch 67: W=2.14, b=0.54,loss=0.17558\n",
      "Epoch 68: W=2.14, b=0.54,loss=0.17490\n",
      "Epoch 69: W=2.14, b=0.54,loss=0.17423\n"
     ]
    }
   ],
   "source": [
    "model = LinearModel()\n",
    "Ws, bs, losses = [], [], []\n",
    "epochs = range(50)\n",
    "for epoch in epochs:\n",
    "    Ws.append(model.W.numpy())\n",
    "    bs.append(model.b.numpy())\n",
    "    current_loss = loss(model(x), y)\n",
    "    losses.append(current_loss)\n",
    "    \n",
    "    train(model, x, y, learning_rate=0.01)\n",
    "    print('Epoch %2d: W=%1.2f, b=%1.2f,loss=%2.5f' % (epoch, Ws[-1], bs[-1], current_loss))"
   ]
  },
  {
   "cell_type": "code",
   "execution_count": 58,
   "metadata": {},
   "outputs": [
    {
     "data": {
      "image/png": "[encoded data removed]",
      "text/plain": [
       "<Figure size 432x288 with 1 Axes>"
      ]
     },
     "metadata": {
      "needs_background": "light"
     },
     "output_type": "display_data"
    }
   ],
   "source": [
    "plt.plot(epochs, Ws, 'r', epochs, bs, 'b')\n",
    "plt.show()"
   ]
  },
  {
   "cell_type": "code",
   "execution_count": 59,
   "metadata": {},
   "outputs": [
    {
     "data": {
      "image/png": "[encoded data removed]",
      "text/plain": [
       "<Figure size 432x288 with 1 Axes>"
      ]
     },
     "metadata": {
      "needs_background": "light"
     },
     "output_type": "display_data"
    }
   ],
   "source": [
    "plt.plot(epochs, losses, 'r')\n",
    "plt.show()"
   ]
  },
  {
   "cell_type": "code",
   "execution_count": 60,
   "metadata": {},
   "outputs": [
    {
     "data": {
      "image/png": "[encoded data removed]",
      "text/plain": [
       "<Figure size 432x288 with 1 Axes>"
      ]
     },
     "metadata": {
      "needs_background": "light"
     },
     "output_type": "display_data"
    }
   ],
   "source": [
    "plt.plot(x, model(x), 'r', x, y, 'b')\n",
    "plt.show()"
   ]
  },
  {
   "cell_type": "code",
   "execution_count": null,
   "metadata": {},
   "outputs": [],
   "source": []
  }
 ],
 "metadata": {
  "kernelspec": {
   "display_name": "Python 3",
   "language": "python",
   "name": "python3"
  },
  "language_info": {
   "codemirror_mode": {
    "name": "ipython",
    "version": 3
   },
   "file_extension": ".py",
   "mimetype": "text/x-python",
   "name": "python",
   "nbconvert_exporter": "python",
   "pygments_lexer": "ipython3",
   "version": "3.7.4"
  }
 },
 "nbformat": 4,
 "nbformat_minor": 2
}
