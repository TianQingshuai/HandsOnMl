{
 "cells": [
  {
   "cell_type": "code",
   "execution_count": 1,
   "metadata": {},
   "outputs": [],
   "source": [
    "import os\n",
    "import numpy as np\n",
    "import tensorflow as tf\n",
    "import pandas as pd\n",
    "import matplotlib.pyplot as plt"
   ]
  },
  {
   "cell_type": "code",
   "execution_count": 2,
   "metadata": {},
   "outputs": [
    {
     "data": {
      "image/png": "[encoded data removed]",
      "text/plain": [
       "<Figure size 432x288 with 1 Axes>"
      ]
     },
     "metadata": {
      "needs_background": "light"
     },
     "output_type": "display_data"
    }
   ],
   "source": [
    "train_dataset_url = \"https://storage.googleapis.com/download.tensorflow.org/data/iris_training.csv\"\n",
    "\n",
    "if not os.path.exists(os.path.basename(train_dataset_url)):\n",
    "    train_dataset_fp = tf.keras.utils.get_file(fname=os.path.basename(train_dataset_url),\n",
    "                                           origin=train_dataset_url)\n",
    "fname = os.path.basename(train_dataset_url)\n",
    "\n",
    "dataset = tf.data.experimental.CsvDataset(fname, [tf.float32, tf.float32, tf.float32, tf.float32, tf.int32], \n",
    "                                         header=True)\n",
    "# 暂时只保留而分类\n",
    "def func(*items):\n",
    "    return items[4] != 2\n",
    "dataset = dataset.filter(func)\n",
    "samples = next(iter(dataset.batch(32).take(1)))\n",
    "plt.scatter(samples[0],\n",
    "            samples[1],\n",
    "            c=samples[4],\n",
    "            cmap='viridis')\n",
    "\n",
    "plt.xlabel(\"Petal length\")\n",
    "plt.ylabel(\"Sepal length\")\n",
    "plt.show()"
   ]
  },
  {
   "cell_type": "code",
   "execution_count": 3,
   "metadata": {},
   "outputs": [],
   "source": [
    "def pack_features_vector(*samples):\n",
    "    features = tf.stack(list(samples[:4]), axis=1)\n",
    "    labels =samples[4]\n",
    "    return features, labels\n",
    "dataset = dataset.batch(32).map(pack_features_vector)"
   ]
  },
  {
   "cell_type": "code",
   "execution_count": 4,
   "metadata": {},
   "outputs": [
    {
     "name": "stdout",
     "output_type": "stream",
     "text": [
      "tf.Tensor(\n",
      "[[5.  2.3 3.3 1. ]\n",
      " [4.9 3.1 1.5 0.1]\n",
      " [5.7 3.8 1.7 0.3]\n",
      " [4.4 3.2 1.3 0.2]\n",
      " [5.4 3.4 1.5 0.4]\n",
      " [6.7 3.1 4.4 1.4]\n",
      " [5.1 3.7 1.5 0.4]\n",
      " [5.2 2.7 3.9 1.4]\n",
      " [6.9 3.1 4.9 1.5]\n",
      " [5.8 4.  1.2 0.2]\n",
      " [5.4 3.9 1.7 0.4]\n",
      " [6.3 3.3 4.7 1.6]\n",
      " [5.7 4.4 1.5 0.4]\n",
      " [5.4 3.9 1.3 0.4]\n",
      " [5.2 3.5 1.5 0.2]\n",
      " [5.8 2.6 4.  1.2]\n",
      " [5.4 3.  4.5 1.5]\n",
      " [6.7 3.  5.  1.7]\n",
      " [6.3 2.3 4.4 1.3]\n",
      " [5.1 2.5 3.  1.1]\n",
      " [6.4 3.2 4.5 1.5]\n",
      " [5.1 3.8 1.5 0.3]\n",
      " [4.8 3.  1.4 0.3]\n",
      " [5.1 3.8 1.9 0.4]\n",
      " [4.7 3.2 1.6 0.2]\n",
      " [4.8 3.4 1.6 0.2]\n",
      " [4.6 3.6 1.  0.2]\n",
      " [5.  3.3 1.4 0.2]\n",
      " [6.6 3.  4.4 1.4]\n",
      " [6.1 2.8 4.  1.3]\n",
      " [5.  3.2 1.2 0.2]\n",
      " [7.  3.2 4.7 1.4]], shape=(32, 4), dtype=float32)\n",
      "tf.Tensor([1 0 0 0 0 1 0 1 1 0 0 1 0 0 0 1 1 1 1 1 1 0 0 0 0 0 0 0 1 1 0 1], shape=(32,), dtype=int32)\n"
     ]
    }
   ],
   "source": [
    "features, labels = next(iter(dataset))\n",
    "print(features)\n",
    "print(labels)"
   ]
  },
  {
   "cell_type": "code",
   "execution_count": 5,
   "metadata": {},
   "outputs": [],
   "source": [
    "class LR(object):\n",
    "    def __init__(self, input_dim, reg_param=0.01):\n",
    "        w_init = tf.random_normal_initializer()\n",
    "        self.W = tf.Variable(initial_value=w_init(shape=(input_dim, 1), dtype='float32'), trainable=True)\n",
    "        b_init = tf.zeros_initializer()\n",
    "        #self.b = tf.Variable(0.0)\n",
    "        self.b = tf.Variable(initial_value=b_init(shape=(1,), dtype=\"float32\"), trainable=True)\n",
    "        self.reg_param = reg_param\n",
    "    \n",
    "    def __call__(self, inputs):\n",
    "        return tf.add(tf.matmul(inputs, self.W), self.b)\n",
    "    \n",
    "    def regularization(self):\n",
    "        return self.reg_param * tf.nn.l2_loss(self.W)"
   ]
  },
  {
   "cell_type": "code",
   "execution_count": 6,
   "metadata": {},
   "outputs": [],
   "source": [
    "model = LR(4)"
   ]
  },
  {
   "cell_type": "code",
   "execution_count": 7,
   "metadata": {},
   "outputs": [
    {
     "data": {
      "text/plain": [
       "<tf.Tensor: id=114, shape=(32, 1), dtype=float32, numpy=\n",
       "array([[0.18225348],\n",
       "       [0.24138913],\n",
       "       [0.30225477],\n",
       "       [0.25699624],\n",
       "       [0.27068755],\n",
       "       [0.2471139 ],\n",
       "       [0.30046085],\n",
       "       [0.22392242],\n",
       "       [0.24649668],\n",
       "       [0.318641  ],\n",
       "       [0.31582874],\n",
       "       [0.2720282 ],\n",
       "       [0.3593244 ],\n",
       "       [0.31663108],\n",
       "       [0.27739272],\n",
       "       [0.20568232],\n",
       "       [0.25043002],\n",
       "       [0.24285477],\n",
       "       [0.17549236],\n",
       "       [0.20227385],\n",
       "       [0.26048732],\n",
       "       [0.3075517 ],\n",
       "       [0.23733242],\n",
       "       [0.308767  ],\n",
       "       [0.2539466 ],\n",
       "       [0.27134755],\n",
       "       [0.29239988],\n",
       "       [0.2610083 ],\n",
       "       [0.23882139],\n",
       "       [0.223469  ],\n",
       "       [0.252301  ],\n",
       "       [0.25317276]], dtype=float32)>"
      ]
     },
     "execution_count": 7,
     "metadata": {},
     "output_type": "execute_result"
    }
   ],
   "source": [
    "model(features)"
   ]
  },
  {
   "cell_type": "code",
   "execution_count": 8,
   "metadata": {},
   "outputs": [],
   "source": [
    "def loss(model, x, y):\n",
    "    y_ = model(x)\n",
    "    labels = tf.cast(tf.reshape(y, [-1,1]), dtype=tf.float32)\n",
    "    return tf.reduce_mean(tf.nn.sigmoid_cross_entropy_with_logits(logits=y_, labels=labels)) + model.regularization()"
   ]
  },
  {
   "cell_type": "code",
   "execution_count": 9,
   "metadata": {},
   "outputs": [
    {
     "name": "stdout",
     "output_type": "stream",
     "text": [
      "tf.Tensor(0.4375, shape=(), dtype=float32)\n"
     ]
    }
   ],
   "source": [
    "accuracy = tf.reduce_mean(tf.cast(tf.equal(tf.round(tf.sigmoid(model(features))), tf.reshape(tf.cast(labels, dtype=tf.float32), [-1, 1])), dtype=tf.float32))\n",
    "print(accuracy)"
   ]
  },
  {
   "cell_type": "code",
   "execution_count": 10,
   "metadata": {},
   "outputs": [
    {
     "data": {
      "text/plain": [
       "<tf.Tensor: id=151, shape=(), dtype=float32, numpy=0.7319184>"
      ]
     },
     "execution_count": 10,
     "metadata": {},
     "output_type": "execute_result"
    }
   ],
   "source": [
    "loss(model, features, labels)"
   ]
  },
  {
   "cell_type": "code",
   "execution_count": 11,
   "metadata": {},
   "outputs": [],
   "source": [
    "def grad(model, features, labels):\n",
    "    with tf.GradientTape() as tape:\n",
    "        loss_val = loss(model, features, labels)\n",
    "    return loss_val, tape.gradient(loss_val, [model.W, model.b])"
   ]
  },
  {
   "cell_type": "code",
   "execution_count": 12,
   "metadata": {},
   "outputs": [],
   "source": [
    "optimizer = tf.keras.optimizers.Adam(learning_rate=0.01)"
   ]
  },
  {
   "cell_type": "code",
   "execution_count": 13,
   "metadata": {},
   "outputs": [],
   "source": [
    "learning_rate = 0.01\n",
    "def train(dataset, records):\n",
    "    epoch_loss_avg = tf.keras.metrics.Mean()\n",
    "    # epoch_accuracy = tf.keras.metrics.SparseCategoricalAccuracy()\n",
    "    for x, y in dataset:\n",
    "        loss_val, grads = grad(model, x, y)\n",
    "        optimizer.apply_gradients(zip(grads, [model.W, model.b]))\n",
    "        epoch_loss_avg(loss_val)\n",
    "        records['Loss'].append(epoch_loss_avg.result().numpy())\n",
    "        accuracy = tf.reduce_mean(tf.cast(tf.equal(tf.round(tf.sigmoid(model(features))), tf.reshape(tf.cast(labels, dtype=tf.float32), [-1, 1])), dtype=tf.float32))\n",
    "        records['Accuracy'].append(accuracy.numpy())"
   ]
  },
  {
   "cell_type": "code",
   "execution_count": 14,
   "metadata": {},
   "outputs": [],
   "source": [
    "records = {\n",
    "    'Loss': [],\n",
    "    'Accuracy': []\n",
    "}"
   ]
  },
  {
   "cell_type": "code",
   "execution_count": 15,
   "metadata": {},
   "outputs": [
    {
     "name": "stdout",
     "output_type": "stream",
     "text": [
      "Epoch 000: Loss: 0.713, Accuracy: 43.750%\n",
      "Epoch 001: Loss: 0.676, Accuracy: 100.000%\n",
      "Epoch 002: Loss: 0.644, Accuracy: 100.000%\n",
      "Epoch 003: Loss: 0.616, Accuracy: 100.000%\n",
      "Epoch 004: Loss: 0.589, Accuracy: 100.000%\n",
      "Epoch 005: Loss: 0.564, Accuracy: 100.000%\n",
      "Epoch 006: Loss: 0.539, Accuracy: 100.000%\n",
      "Epoch 007: Loss: 0.516, Accuracy: 100.000%\n",
      "Epoch 008: Loss: 0.494, Accuracy: 100.000%\n",
      "Epoch 009: Loss: 0.473, Accuracy: 100.000%\n",
      "Epoch 010: Loss: 0.453, Accuracy: 100.000%\n",
      "Epoch 020: Loss: 0.304, Accuracy: 100.000%\n",
      "Epoch 030: Loss: 0.220, Accuracy: 100.000%\n",
      "Epoch 040: Loss: 0.171, Accuracy: 100.000%\n"
     ]
    }
   ],
   "source": [
    "for i in range(50):\n",
    "    train(dataset, records)\n",
    "    if i % 10 == 0 or i < 10:\n",
    "        print(\"Epoch {:03d}: Loss: {:.3f}, Accuracy: {:.3%}\".format(i,\n",
    "                                                                records['Loss'][-1],\n",
    "                                                               records['Accuracy'][-1]))"
   ]
  },
  {
   "cell_type": "code",
   "execution_count": 16,
   "metadata": {},
   "outputs": [
    {
     "data": {
      "image/png": "[encoded data removed]",
      "text/plain": [
       "<Figure size 864x576 with 2 Axes>"
      ]
     },
     "metadata": {
      "needs_background": "light"
     },
     "output_type": "display_data"
    }
   ],
   "source": [
    "fig, axes = plt.subplots(2, sharex=True, figsize=(12, 8))\n",
    "fig.suptitle('Training Metrics')\n",
    "\n",
    "axes[0].set_ylabel(\"Loss\", fontsize=14)\n",
    "axes[0].plot(records['Loss'])\n",
    "\n",
    "axes[1].set_ylabel(\"Accuracy\", fontsize=14)\n",
    "axes[1].set_xlabel(\"Epoch\", fontsize=14)\n",
    "axes[1].plot(records['Accuracy'])\n",
    "plt.show()"
   ]
  },
  {
   "cell_type": "code",
   "execution_count": 17,
   "metadata": {},
   "outputs": [
    {
     "data": {
      "text/plain": [
       "-0.14358452"
      ]
     },
     "execution_count": 17,
     "metadata": {},
     "output_type": "execute_result"
    }
   ],
   "source": [
    "model.W[0].numpy()[0]"
   ]
  },
  {
   "cell_type": "code",
   "execution_count": 38,
   "metadata": {},
   "outputs": [
    {
     "data": {
      "image/png": "[encoded data removed]",
      "text/plain": [
       "<Figure size 432x288 with 1 Axes>"
      ]
     },
     "metadata": {
      "needs_background": "light"
     },
     "output_type": "display_data"
    }
   ],
   "source": [
    "tdataset = tf.data.experimental.CsvDataset(fname, [tf.float32, tf.float32, tf.float32, tf.float32, tf.int32], \n",
    "                                         header=True)\n",
    "# 暂时只保留而分类\n",
    "def func(*items):\n",
    "    return items[4] != 2\n",
    "tdataset = tdataset.filter(func)\n",
    "tfeatures, tlabels = next(iter(tdataset.batch(32).map(pack_features_vector)))\n",
    "#plt.scatter(tdataset[0],\n",
    "#            tdataset[1],\n",
    "#            c=tlabels,\n",
    "#            cmap='viridis')\n",
    "flag = tf.round(tf.sigmoid(model(features)))\n",
    "flag = tf.reshape(tf.cast(flag, dtype=tf.int32), [-1])\n",
    "flag\n",
    "plt.scatter(tsamples[0], tsamples[1], c=flag, cmap=\"viridis\")\n",
    "\n",
    "plt.xlabel(\"sepal_length\")\n",
    "plt.ylabel(\"sepal_width\")\n",
    "plt.show()"
   ]
  },
  {
   "cell_type": "code",
   "execution_count": null,
   "metadata": {},
   "outputs": [],
   "source": []
  }
 ],
 "metadata": {
  "kernelspec": {
   "display_name": "Python 3",
   "language": "python",
   "name": "python3"
  },
  "language_info": {
   "codemirror_mode": {
    "name": "ipython",
    "version": 3
   },
   "file_extension": ".py",
   "mimetype": "text/x-python",
   "name": "python",
   "nbconvert_exporter": "python",
   "pygments_lexer": "ipython3",
   "version": "3.7.4"
  }
 },
 "nbformat": 4,
 "nbformat_minor": 2
}
